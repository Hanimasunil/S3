{
 "cells": [
  {
   "cell_type": "code",
   "execution_count": 1,
   "id": "1f9e64e2",
   "metadata": {},
   "outputs": [],
   "source": [
    "import numpy as np  \n",
    "from sklearn.datasets import load_iris \n",
    "from sklearn.model_selection import train_test_split  \n",
    "from sklearn.neighbors import KNeighborsClassifier \n",
    "from sklearn.metrics import accuracy_score \n"
   ]
  },
  {
   "cell_type": "code",
   "execution_count": 3,
   "id": "959f4ff1",
   "metadata": {},
   "outputs": [
    {
     "name": "stdout",
     "output_type": "stream",
     "text": [
      "Accuracy of k-NN with k=3:1.00\n"
     ]
    }
   ],
   "source": [
    "# df=pd.read_csv ('data.csv') \n",
    "data = load_iris() \n",
    "X = data.data \n",
    "y= data.target \n",
    "X_train,X_test,y_train,y_test = train_test_split(X,y,test_size=0.2,random_state=42) \n",
    "k=3  \n",
    "knn = KNeighborsClassifier(n_neighbors=3) \n",
    "knn.fit(X_train,y_train) \n",
    "y_pred = knn.predict(X_test) \n",
    "accuracy = accuracy_score(y_test,y_pred) \n",
    "print(f'Accuracy of k-NN with k={k}:{accuracy:.2f}')"
   ]
  },
  {
   "cell_type": "code",
   "execution_count": 10,
   "id": "7f4bb9ef",
   "metadata": {},
   "outputs": [
    {
     "name": "stdout",
     "output_type": "stream",
     "text": [
      "[2]\n",
      "0.3333333333333333\n"
     ]
    }
   ],
   "source": [
    "data = pd.read_csv('food.csv') \n",
    "X = data.iloc[:, :3] \n",
    "# print(X) \n",
    "y= data.iloc[:, 3] \n",
    "le = LabelEncoder() \n",
    "categorical_columns = ['Ingredient']   \n",
    "for col in categorical_columns:\n",
    "    \n",
    "    X[col] = le.fit_transform(X[col]) \n",
    "    y = le.fit_transform(y) \n",
    "    X_train,X_test,y_train,y_test = train_test_split(X,y,test_size=0.2,random_state=42) \n",
    "    k=3 \n",
    "    knn = KNeighborsClassifier(n_neighbors=k) \n",
    "    knn.fit(X_train,y_train) \n",
    "    y_pred = knn.predict(X_test) \n",
    "    sample=[[1,10,9]] \n",
    "    k=knn.predict(sample) \n",
    "print(k) \n",
    "accuracy = accuracy_score(y_test,y_pred) \n",
    "print(accuracy)"
   ]
  },
  {
   "cell_type": "code",
   "execution_count": 11,
   "id": "c77dca89",
   "metadata": {},
   "outputs": [],
   "source": [
    "import numpy as np  \n",
    "import pandas as pd \n",
    "# from sklearn.datasets import load_iris \n",
    "from sklearn.model_selection import train_test_split  \n",
    "from sklearn.neighbors import KNeighborsClassifier \n",
    "from sklearn.metrics import accuracy_score \n",
    "data = pd.read_csv('insurance.csv') \n"
   ]
  },
  {
   "cell_type": "code",
   "execution_count": 13,
   "id": "1bb098c0",
   "metadata": {},
   "outputs": [
    {
     "name": "stdout",
     "output_type": "stream",
     "text": [
      "[1]\n",
      "0.6977611940298507\n"
     ]
    }
   ],
   "source": [
    "X = data.iloc[:, :6] \n",
    "# print(X) \n",
    "y= data.iloc[:, 1] \n",
    "le = LabelEncoder() \n",
    "categorical_columns = ['sex', 'smoker', 'region']   \n",
    "for col in categorical_columns: \n",
    "    X[col] = le.fit_transform(X[col]) \n",
    "y = le.fit_transform(y) \n",
    "X_train,X_test,y_train,y_test = train_test_split(X,y,test_size=0.2,random_state=42) \n",
    "k=3 \n",
    "knn = KNeighborsClassifier(n_neighbors=k) \n",
    "knn.fit(X_train,y_train) \n",
    "y_pred = knn.predict(X_test) \n",
    "sample=[[1,10,9,11,4,2]] \n",
    "k=knn.predict(sample) \n",
    "print(k) \n",
    "accuracy = accuracy_score(y_test,y_pred) \n",
    "print(accuracy)"
   ]
  },
  {
   "cell_type": "code",
   "execution_count": 14,
   "id": "4f693a30",
   "metadata": {},
   "outputs": [],
   "source": [
    "import numpy as np  \n",
    "import pandas as pd \n",
    "# from sklearn.datasets import load_iris \n",
    "from sklearn.model_selection import train_test_split  \n",
    "from sklearn.neighbors import KNeighborsClassifier \n",
    "from sklearn.metrics import accuracy_score \n",
    "from sklearn.preprocessing import LabelEncoder"
   ]
  },
  {
   "cell_type": "code",
   "execution_count": 16,
   "id": "8a923a11",
   "metadata": {},
   "outputs": [
    {
     "name": "stdout",
     "output_type": "stream",
     "text": [
      "[1]\n",
      "1.0\n"
     ]
    }
   ],
   "source": [
    "data = pd.read_csv('cricket.csv') \n",
    "X = data.iloc[:, :5] \n",
    "# print(X) \n",
    "y= data.iloc[:, 4] \n",
    "# print(y) \n",
    "le = LabelEncoder() \n",
    "categorical_columns = ['Outlook','Temp','Humidity','Windy','Play Cricket']   \n",
    "for col in categorical_columns: \n",
    "    X[col] = le.fit_transform(X[col]) \n",
    "y = le.fit_transform(y) \n",
    "X_train,X_test,y_train,y_test = train_test_split(X,y,test_size=0.2,random_state=42) \n",
    "k=3 \n",
    "knn = KNeighborsClassifier(n_neighbors=k) \n",
    "knn.fit(X_train,y_train) \n",
    "y_pred = knn.predict(X_test) \n",
    "sample=[[1,10,9,11,4]] \n",
    "k=knn.predict(sample) \n",
    "print(k) \n",
    "accuracy = accuracy_score(y_test,y_pred) \n",
    "print(accuracy)"
   ]
  },
  {
   "cell_type": "code",
   "execution_count": null,
   "id": "c0051dc1",
   "metadata": {},
   "outputs": [],
   "source": []
  }
 ],
 "metadata": {
  "kernelspec": {
   "display_name": "Python 3 (ipykernel)",
   "language": "python",
   "name": "python3"
  },
  "language_info": {
   "codemirror_mode": {
    "name": "ipython",
    "version": 3
   },
   "file_extension": ".py",
   "mimetype": "text/x-python",
   "name": "python",
   "nbconvert_exporter": "python",
   "pygments_lexer": "ipython3",
   "version": "3.9.7"
  }
 },
 "nbformat": 4,
 "nbformat_minor": 5
}
