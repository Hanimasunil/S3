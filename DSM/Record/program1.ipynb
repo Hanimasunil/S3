{
 "cells": [
  {
   "cell_type": "code",
   "execution_count": 1,
   "id": "37c2086c",
   "metadata": {},
   "outputs": [
    {
     "name": "stdout",
     "output_type": "stream",
     "text": [
      "Select operation: 1.Addition, 2.Substraction, 3.multiplication, 4.Division, /\n",
      "Enter choice: 3\n",
      "Enter first number: 33\n",
      "Enter second number: 4\n",
      "Result: 132.0\n"
     ]
    }
   ],
   "source": [
    "print(\"Select operation: 1.Addition, 2.Substraction, 3.multiplication, 4.Division, /\") \n",
    "ch = input(\"Enter choice: \") \n",
    "num1 = float(input(\"Enter first number: \")) \n",
    "num2 = float(input(\"Enter second number: \")) \n",
    " \n",
    "if ch == '1': \n",
    "    print(\"Result:\", num1 + num2) \n",
    "elif ch == '2': \n",
    "    print(\"Result:\", num1 - num2) \n",
    "elif ch == '3': \n",
    "    print(\"Result:\", num1 * num2) \n",
    "elif ch == '4': \n",
    "    if num2 != 0: \n",
    "        print(\"Result:\", num1 / num2) \n",
    "    else: \n",
    "        print(\"Error: Division by zero!\") \n",
    "else: \n",
    "    print(\"Invalid operator\")"
   ]
  },
  {
   "cell_type": "code",
   "execution_count": 2,
   "id": "758b4e22",
   "metadata": {},
   "outputs": [
    {
     "name": "stdout",
     "output_type": "stream",
     "text": [
      "a AND b: 8\n",
      "a OR b: 5\n",
      "NOT a: False\n",
      "a > b: False\n",
      "a == b: False\n",
      "a >= b: False\n",
      "a <= b: True\n",
      "a < b: True\n"
     ]
    }
   ],
   "source": [
    "a = 5 \n",
    "b = 8 \n",
    "print(\"a AND b:\", a and b) \n",
    "print(\"a OR b:\", a or b) \n",
    "print(\"NOT a:\", not a) \n",
    "print(\"a > b:\", a > b) \n",
    "print(\"a == b:\", a == b) \n",
    "print(\"a >= b:\", a >= b) \n",
    "print(\"a <= b:\", a <= b) \n",
    "print(\"a < b:\", a < b) "
   ]
  },
  {
   "cell_type": "code",
   "execution_count": 7,
   "id": "88c99b91",
   "metadata": {},
   "outputs": [
    {
     "name": "stdout",
     "output_type": "stream",
     "text": [
      "Merged Dictionary: {'a': 1, 'b': 2, 'c': 3, 'd': 4}\n"
     ]
    }
   ],
   "source": [
    "def merge_dictionaries(): \n",
    "    dict1 = {'a': 1, 'b': 2} \n",
    "    dict2 = {'c': 3, 'd': 4} \n",
    "    merged_dict = dict1.copy() \n",
    "    merged_dict.update(dict2)\n",
    "    \n",
    "    print(\"Merged Dictionary:\", merged_dict) \n",
    "merge_dictionaries() "
   ]
  },
  {
   "cell_type": "code",
   "execution_count": 9,
   "id": "e73c5706",
   "metadata": {},
   "outputs": [
    {
     "name": "stdout",
     "output_type": "stream",
     "text": [
      "Enter first number: 33\n",
      "Enter second number: 22\n",
      "Enter third number: 55\n",
      "The largest number is: 55.0\n"
     ]
    }
   ],
   "source": [
    "a = float(input(\"Enter first number: \")) \n",
    "b = float(input(\"Enter second number: \")) \n",
    "c = float(input(\"Enter third number: \")) \n",
    "if a >= b and a >= c: \n",
    "    largest = a \n",
    "elif b >= a and b >= c: \n",
    "    largest = b \n",
    "else: \n",
    "    largest = c \n",
    "print(\"The largest number is:\", largest)"
   ]
  },
  {
   "cell_type": "code",
   "execution_count": 10,
   "id": "78ac6478",
   "metadata": {},
   "outputs": [
    {
     "name": "stdout",
     "output_type": "stream",
     "text": [
      "Original List: [1, 2, 3]\n",
      "After Append: [1, 2, 3, 4]\n",
      "After Insert at index 1: [1, 10, 2, 3, 4]\n",
      "After Deleting element at index 2: [1, 10, 3, 4]\n",
      "After Removing 10: [1, 3, 4]\n",
      "Copied List: [1, 3, 4]\n"
     ]
    }
   ],
   "source": [
    "a = [1, 2, 3] \n",
    "print(\"Original List:\", a) \n",
    "a.append(4) \n",
    "print(\"After Append:\", a) \n",
    "a.insert(1, 10) \n",
    "print(\"After Insert at index 1:\", a) \n",
    "del a[2] \n",
    "print(\"After Deleting element at index 2:\", a) \n",
    "a.remove(10) \n",
    "print(\"After Removing 10:\", a) \n",
    "copied_list = a.copy() \n",
    "print(\"Copied List:\", copied_list)"
   ]
  },
  {
   "cell_type": "code",
   "execution_count": null,
   "id": "e983774d",
   "metadata": {},
   "outputs": [],
   "source": []
  }
 ],
 "metadata": {
  "kernelspec": {
   "display_name": "Python 3 (ipykernel)",
   "language": "python",
   "name": "python3"
  },
  "language_info": {
   "codemirror_mode": {
    "name": "ipython",
    "version": 3
   },
   "file_extension": ".py",
   "mimetype": "text/x-python",
   "name": "python",
   "nbconvert_exporter": "python",
   "pygments_lexer": "ipython3",
   "version": "3.9.7"
  }
 },
 "nbformat": 4,
 "nbformat_minor": 5
}
